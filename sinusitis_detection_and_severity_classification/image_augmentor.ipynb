{
 "cells": [
  {
   "cell_type": "code",
   "execution_count": null,
   "metadata": {
    "colab": {
     "base_uri": "https://localhost:8080/"
    },
    "id": "Rrvdrk3-5g1i",
    "outputId": "4b48903d-6a34-4b13-d091-cdf7d95cbd1a"
   },
   "outputs": [
    {
     "name": "stdout",
     "output_type": "stream",
     "text": [
      "Collecting augmentor\n",
      "  Downloading Augmentor-0.2.12-py2.py3-none-any.whl.metadata (1.3 kB)\n",
      "Requirement already satisfied: Pillow>=5.2.0 in /usr/local/lib/python3.10/dist-packages (from augmentor) (11.0.0)\n",
      "Requirement already satisfied: tqdm>=4.9.0 in /usr/local/lib/python3.10/dist-packages (from augmentor) (4.66.6)\n",
      "Requirement already satisfied: numpy>=1.11.0 in /usr/local/lib/python3.10/dist-packages (from augmentor) (1.26.4)\n",
      "Downloading Augmentor-0.2.12-py2.py3-none-any.whl (38 kB)\n",
      "Installing collected packages: augmentor\n",
      "Successfully installed augmentor-0.2.12\n"
     ]
    }
   ],
   "source": [
    "pip install augmentor"
   ]
  },
  {
   "cell_type": "code",
   "execution_count": 21,
   "metadata": {
    "colab": {
     "base_uri": "https://localhost:8080/"
    },
    "id": "GxMzuiIX5G5h",
    "outputId": "9444c4e6-6555-4983-b192-067530c43032"
   },
   "outputs": [
    {
     "name": "stdout",
     "output_type": "stream",
     "text": [
      "Path exists: True\n",
      "Calling the function...\n",
      "Function started\n",
      "Class 'invalid' has 114 images.\n",
      "Resizing images in class 'invalid' to (224, 224)...\n",
      "Error resizing image G:\\My Drive\\sinusities\\dataset\\validate\\invalid\\head-mri_thumb-1-732x549.avif: Image not found or invalid: G:\\My Drive\\sinusities\\dataset\\validate\\invalid\\head-mri_thumb-1-732x549.avif\n",
      "Error resizing image G:\\My Drive\\sinusities\\dataset\\validate\\invalid\\desktop.ini: Image not found or invalid: G:\\My Drive\\sinusities\\dataset\\validate\\invalid\\desktop.ini\n",
      "Initialised with 112 image(s) found.\n",
      "Output directory set to G:\\My Drive\\sinusities\\dataset\\validate\\invalid\\output."
     ]
    },
    {
     "name": "stderr",
     "output_type": "stream",
     "text": [
      "Processing <PIL.JpegImagePlugin.JpegImageFile image mode=RGB size=224x224 at 0x23747392770>: 100%|██████████| 86/86 [00:00<00:00, 100.34 Samples/s]\n"
     ]
    },
    {
     "name": "stdout",
     "output_type": "stream",
     "text": [
      "Class at 'G:\\My Drive\\sinusities\\dataset\\validate\\invalid' augmented with 86 new images.\n",
      "Class 'valid' has 73 images.\n",
      "Resizing images in class 'valid' to (224, 224)...\n",
      "Error resizing image G:\\My Drive\\sinusities\\dataset\\validate\\valid\\desktop.ini: Image not found or invalid: G:\\My Drive\\sinusities\\dataset\\validate\\valid\\desktop.ini\n",
      "Initialised with 69 image(s) found.\n",
      "Output directory set to G:\\My Drive\\sinusities\\dataset\\validate\\valid\\output."
     ]
    },
    {
     "name": "stderr",
     "output_type": "stream",
     "text": [
      "Processing <PIL.JpegImagePlugin.JpegImageFile image mode=RGB size=224x224 at 0x2374737B9A0>: 100%|██████████| 127/127 [00:01<00:00, 116.56 Samples/s]\n"
     ]
    },
    {
     "name": "stdout",
     "output_type": "stream",
     "text": [
      "Class at 'G:\\My Drive\\sinusities\\dataset\\validate\\valid' augmented with 127 new images.\n",
      "Function Exiting\n",
      "Function call complete\n"
     ]
    }
   ],
   "source": [
    "import os\n",
    "import cv2\n",
    "from pathlib import Path\n",
    "import Augmentor\n",
    "\n",
    "\n",
    "def resize_image(image_path, size=(224, 224)):\n",
    "    \"\"\"\n",
    "    Resizes an image to the specified size.\n",
    "\n",
    "    Args:\n",
    "        image_path (str): Path to the image.\n",
    "        size (tuple): Desired size as (width, height).\n",
    "    \"\"\"\n",
    "    try:\n",
    "        img = cv2.imread(image_path)\n",
    "        if img is None:\n",
    "            raise ValueError(f\"Image not found or invalid: {image_path}\")\n",
    "        resized_img = cv2.resize(img, size)\n",
    "        cv2.imwrite(image_path, resized_img)\n",
    "    except Exception as e:\n",
    "        print(f\"Error resizing image {image_path}: {e}\")\n",
    "\n",
    "\n",
    "def augment_and_resize_images(class_path, current_count, target_count, resize_to):\n",
    "    \"\"\"\n",
    "    Augments and resizes images to meet the target count.\n",
    "\n",
    "    Args:\n",
    "        class_path (str): Path to the class folder.\n",
    "        current_count (int): Current number of images in the class.\n",
    "        target_count (int): Desired number of images.\n",
    "        resize_to (tuple): Desired size for all images as (width, height).\n",
    "    \"\"\"\n",
    "    # Augmentor to generate additional images\n",
    "    p = Augmentor.Pipeline(class_path)\n",
    "    p.set_save_format(\"JPEG\")\n",
    "    p.rotate(probability=0.7, max_left_rotation=10, max_right_rotation=10)\n",
    "    p.flip_left_right(probability=0.5)\n",
    "    p.zoom_random(probability=0.5, percentage_area=0.8)\n",
    "\n",
    "    # Number of new images to generate\n",
    "    num_to_generate = target_count - current_count\n",
    "    p.sample(num_to_generate)\n",
    "\n",
    "    # Move augmented images from \"output\" folder to the original folder\n",
    "    output_dir = os.path.join(class_path, \"output\")\n",
    "    if os.path.exists(output_dir):\n",
    "        for augmented_img in os.listdir(output_dir):\n",
    "            augmented_img_path = os.path.join(output_dir, augmented_img)\n",
    "            resized_augmented_img_path = os.path.join(class_path, augmented_img)\n",
    "            # Resize the augmented image\n",
    "            resize_image(augmented_img_path, size=resize_to)\n",
    "            # Move resized image to the class folder\n",
    "            os.rename(augmented_img_path, resized_augmented_img_path)\n",
    "        os.rmdir(output_dir)  # Remove the now-empty \"output\" folder\n",
    "\n",
    "    print(f\"Class at '{class_path}' augmented with {num_to_generate} new images.\")\n",
    "\n",
    "\n",
    "def balance_dataset_to_500_images(base_dir, target_count=500, resize_to=(224, 224)):\n",
    "    \"\"\"\n",
    "    Balances the dataset by oversampling to the target count and resizing images.\n",
    "\n",
    "    Args:\n",
    "        base_dir (str): Path to the folder containing class subdirectories.\n",
    "        target_count (int): Desired number of images per class.\n",
    "        resize_to (tuple): Desired size for all images as (width, height).\n",
    "    \"\"\"\n",
    "    print(\"Function started\")\n",
    "    # Iterate through each class folder\n",
    "    for class_name in os.listdir(base_dir):\n",
    "        class_path = os.path.join(base_dir, class_name)\n",
    "        if not os.path.isdir(class_path):\n",
    "            continue\n",
    "\n",
    "        # Get all images in the class directory\n",
    "        images = [str(p) for p in Path(class_path).glob(\"*\") if p.is_file()]\n",
    "        num_images = len(images)\n",
    "        print(f\"Class '{class_name}' has {num_images} images.\")\n",
    "\n",
    "        # Resize all existing images\n",
    "        print(f\"Resizing images in class '{class_name}' to {resize_to}...\")\n",
    "        for img_path in images:\n",
    "            resize_image(img_path, size=resize_to)\n",
    "\n",
    "        # Augment images to reach the target count\n",
    "        if num_images < target_count:\n",
    "            augment_and_resize_images(class_path, num_images, target_count, resize_to)\n",
    "        else:\n",
    "            print(f\"Class '{class_name}' already has {num_images} images, which meets or exceeds the target.\")\n",
    "    print(\"Function Exiting\")\n",
    "\n",
    "\n",
    "# Set directory\n",
    "base_dir = r\"G:\\My Drive\\sinusities\\dataset\\validate\"\n",
    "\n",
    "print(\"Path exists:\", os.path.exists(base_dir))\n",
    "\n",
    "target_count = 200  # Updated target number of images per class\n",
    "resize_to = (224, 224)  # image size\n",
    "\n",
    "# Run the script\n",
    "print(\"Calling the function...\")\n",
    "balance_dataset_to_500_images(base_dir, target_count, resize_to)\n",
    "print(\"Function call complete\")\n"
   ]
  }
 ],
 "metadata": {
  "colab": {
   "provenance": []
  },
  "kernelspec": {
   "display_name": "Python 3",
   "name": "python3"
  },
  "language_info": {
   "name": "python"
  }
 },
 "nbformat": 4,
 "nbformat_minor": 0
}
